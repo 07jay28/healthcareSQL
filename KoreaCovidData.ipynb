{
 "cells": [
  {
   "cell_type": "code",
   "id": "initial_id",
   "metadata": {
    "collapsed": true,
    "ExecuteTime": {
     "end_time": "2025-02-02T04:27:10.011683Z",
     "start_time": "2025-02-02T04:27:08.952884Z"
    }
   },
   "source": [
    "import numpy as np\n",
    "import pandas as pd\n",
    "import matplotlib.pyplot as plt\n",
    "import sqlite3"
   ],
   "outputs": [],
   "execution_count": 1
  },
  {
   "metadata": {},
   "cell_type": "code",
   "outputs": [],
   "execution_count": null,
   "source": [
    "def CasesDataPerProvince(cursor):\n",
    "    query = \"\"\" SELECT province, SUM(confirmed) as Total_Confirmed\n",
    "            FROM Cases\n",
    "            GROUP BY province\n",
    "            ORDER BY Total_Confirmed DESC\n",
    "            LIMIT 5\"\"\"\n",
    "    cursor.execute(query)\n",
    "    data = cursor.fetchall()\n",
    "\n",
    "    for row in data:\n",
    "        plt.bar(row[0], row[1])\n",
    "        plt.text(row[0], row[1], row[1])\n",
    "\n",
    "    plt.title(\"Confirmed Cases by Province\")\n",
    "    plt.xlabel(\"Province\")\n",
    "    plt.ylabel(\"Cases\")\n",
    "    plt.show()"
   ],
   "id": "387ca7bc8ef9e9ca"
  },
  {
   "metadata": {},
   "cell_type": "code",
   "outputs": [],
   "execution_count": null,
   "source": [
    "def PatientInfo(cursor):\n",
    "    query = \"\"\"\"\"\""
   ],
   "id": "342eca531fd19964"
  },
  {
   "metadata": {},
   "cell_type": "code",
   "outputs": [],
   "execution_count": null,
   "source": [
    "# database connections\n",
    "CaseConn = sqlite3.connect('./KoreaCovidData/Case.db')\n",
    "PatientConn = sqlite3.connect('./KoreaCovidData/PatientInfo.db')\n"
   ],
   "id": "631b1ae1caf81bd0"
  },
  {
   "metadata": {},
   "cell_type": "code",
   "outputs": [],
   "execution_count": null,
   "source": [
    "# database cursors\n",
    "CaseCursor = CaseConn.cursor()\n",
    "PatientCursor = PatientConn.cursor()"
   ],
   "id": "4938ba2a785b20a6"
  },
  {
   "metadata": {},
   "cell_type": "code",
   "outputs": [],
   "execution_count": null,
   "source": "CasesDataPerProvince(CaseCursor)",
   "id": "491a8d5c3e61f4e7"
  },
  {
   "metadata": {},
   "cell_type": "code",
   "outputs": [],
   "execution_count": null,
   "source": [
    "# close the database connections\n",
    "CaseConn.close()\n",
    "PatientConn.close()"
   ],
   "id": "430b550245c1d320"
  }
 ],
 "metadata": {
  "kernelspec": {
   "display_name": "Python 3",
   "language": "python",
   "name": "python3"
  },
  "language_info": {
   "codemirror_mode": {
    "name": "ipython",
    "version": 2
   },
   "file_extension": ".py",
   "mimetype": "text/x-python",
   "name": "python",
   "nbconvert_exporter": "python",
   "pygments_lexer": "ipython2",
   "version": "2.7.6"
  }
 },
 "nbformat": 4,
 "nbformat_minor": 5
}
